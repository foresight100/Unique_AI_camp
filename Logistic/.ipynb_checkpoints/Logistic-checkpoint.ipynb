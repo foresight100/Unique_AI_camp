{
 "cells": [
  {
   "cell_type": "code",
   "execution_count": 117,
   "metadata": {},
   "outputs": [],
   "source": [
    "from numpy import *\n",
    "import pandas as pd\n",
    "import random\n",
    "import matplotlib.pyplot as plt"
   ]
  },
  {
   "cell_type": "code",
   "execution_count": 118,
   "metadata": {},
   "outputs": [],
   "source": [
    "# # 单位阶跃函数\n",
    "def sigmoid(inX):\n",
    "    return 1.0/(1+exp(-inX))"
   ]
  },
  {
   "cell_type": "code",
   "execution_count": 119,
   "metadata": {},
   "outputs": [],
   "source": [
    "def loadData():\n",
    "    dataMat = []; labelMat = []\n",
    "    pima = open(\"../Pima.csv\")\n",
    "#     dataMat = np.array(pima.iloc[:,0:8].values.tolist())\n",
    "#     lables = np.array(pima.iloc[:,8:9].values.tolist())\n",
    "    for line in pima:\n",
    "        lineArr = line.strip().split(',')\n",
    "        float_map = map(float,lineArr)\n",
    "        float_list = list(float_map)\n",
    "        dataMat.append(float_list[0:-1])\n",
    "        labelMat.append(int(lineArr[-1]))\n",
    "    return dataMat,labelMat"
   ]
  },
  {
   "cell_type": "code",
   "execution_count": 120,
   "metadata": {},
   "outputs": [],
   "source": [
    "# 梯度上升\n",
    "def gradAscent(dataMatIn, classLabels):\n",
    "    dataMatrix = mat(dataMatIn)\n",
    "    labelMat = mat(classLabels).transpose()\n",
    "    m,n = shape(dataMatrix)\n",
    "    # 步长\n",
    "    alpha = 0.0000001\n",
    "    # 最大递归次数\n",
    "    maxCycles = 100000\n",
    "    # 初始化权重为1\n",
    "    weights = ones((n,1))\n",
    "    for k in range(maxCycles):          \n",
    "        h = sigmoid(dataMatrix*weights)\n",
    "        error = (labelMat - h)             \n",
    "        weights = weights + alpha * dataMatrix.transpose()* error\n",
    "    return weights"
   ]
  },
  {
   "cell_type": "code",
   "execution_count": 121,
   "metadata": {},
   "outputs": [],
   "source": [
    "# 计算海森矩阵\n",
    "def calHessianMat(dataMatIn):\n",
    "    dataMatrix = mat(dataMatIn)\n",
    "    hessianMatrix = dataMatrix.transpose().dot(dataMatrix)\n",
    "    return hessianMatrix.I\n",
    "\n",
    "# 牛顿法\n",
    "def newTon(dataMatIn,classLabels):\n",
    "    dataMatrix = mat(dataMatIn)\n",
    "    labelMat = mat(classLabels).transpose()\n",
    "    m,n = shape(dataMatrix)\n",
    "    # 步长\n",
    "    alpha = 0.1\n",
    "    # 最大递归次数\n",
    "    maxCycles = 100000\n",
    "    # 初始化权重为1\n",
    "    weights = ones((n,1))\n",
    "    \n",
    "    hessianMat = calHessianMat(dataMatrix)\n",
    "    \n",
    "    k=0\n",
    "    \n",
    "    for k in range(maxCycles):          \n",
    "        h = sigmoid(dataMatrix*weights)\n",
    "        error = (labelMat - h)     \n",
    "        weights = weights - (dataMatrix * hessianMat).transpose() * error *alpha\n",
    "    print(k)\n",
    "    print(weights)\n",
    "    return weights"
   ]
  },
  {
   "cell_type": "code",
   "execution_count": 122,
   "metadata": {},
   "outputs": [],
   "source": [
    "def classfy(data,weight):\n",
    "    if(sigmoid(sum(data*weight)) > 0.5):\n",
    "        return 1\n",
    "    else:\n",
    "        return 0"
   ]
  },
  {
   "cell_type": "code",
   "execution_count": 144,
   "metadata": {},
   "outputs": [],
   "source": [
    "def plotBestFit(theta):\n",
    "    dataMat,labelMat = loadData()\n",
    "    dataArr = array(dataMat)\n",
    "    n = shape(dataArr)[0] \n",
    "    xcord1 = []; ycord1 = []\n",
    "    xcord2 = []; ycord2 = []\n",
    "    for i in range(n):\n",
    "        if int(labelMat[i])== 1:\n",
    "            xcord1.append(dataArr[i,1]); ycord1.append(dataArr[i,2])\n",
    "        else:\n",
    "            xcord2.append(dataArr[i,1]); ycord2.append(dataArr[i,2])\n",
    "    fig = plt.figure()\n",
    "    ax = fig.add_subplot(111)\n",
    "    ax.scatter(xcord1, ycord1, s = 30, c = 'red', marker='s')\n",
    "    ax.scatter(xcord2, ycord2, s = 30, c = 'blue')\n",
    "    x = [arange(-3.0, 3.0, 0.1)]\n",
    "    y = (-theta[0] - theta[1] * x) / theta[2]\n",
    "    ax.plot(x, y)\n",
    "    plt.xlabel('X1'); plt.ylabel('X2');\n",
    "    plt.show()"
   ]
  },
  {
   "cell_type": "code",
   "execution_count": 131,
   "metadata": {},
   "outputs": [],
   "source": [
    "def test():\n",
    "    dataMat,labels = loadData()\n",
    "    length = len(dataMat)\n",
    "    \n",
    "    trainDataSet = []\n",
    "    trainLabelsSet = []\n",
    "    testDataSet = []\n",
    "    testLabelsSet = []\n",
    "    \n",
    "    randomlist = random.sample(range(0,length), int(length*0.2))\n",
    "    \n",
    "    for index in range(0,length):\n",
    "        if(index in randomlist):\n",
    "            testDataSet.append(dataMat[index])\n",
    "            testLabelsSet.append(labels[index])\n",
    "        else:\n",
    "            trainDataSet.append(dataMat[index])\n",
    "            trainLabelsSet.append(labels[index])\n",
    "    \n",
    "#     weight = gradAscent(trainDataSet,trainLabelsSet)\n",
    "    weight = newTon(trainDataSet,trainLabelsSet)\n",
    "    \n",
    "    count = 0\n",
    "    for index in range(len(testDataSet)):\n",
    "        if(classfy(testDataSet[index],weight) == testLabelsSet[index]):\n",
    "            count += 1\n",
    "    return count/len(testDataSet)"
   ]
  },
  {
   "cell_type": "code",
   "execution_count": 132,
   "metadata": {},
   "outputs": [],
   "source": [
    "dataMat,labelMat = loadData()\n",
    "weights = gradAscent(dataMat,labelMat)"
   ]
  },
  {
   "cell_type": "code",
   "execution_count": 142,
   "metadata": {},
   "outputs": [
    {
     "data": {
      "text/plain": [
       "matrix([[ 1.34289731e-01],\n",
       "        [ 1.23544173e-02],\n",
       "        [-3.07873956e-02],\n",
       "        [-1.39208222e-03],\n",
       "        [ 6.73798458e-04],\n",
       "        [-7.84458284e-03],\n",
       "        [ 8.98961424e-01],\n",
       "        [-1.74492328e-02]])"
      ]
     },
     "execution_count": 142,
     "metadata": {},
     "output_type": "execute_result"
    }
   ],
   "source": [
    "weights"
   ]
  },
  {
   "cell_type": "code",
   "execution_count": 145,
   "metadata": {},
   "outputs": [
    {
     "data": {
      "image/png": "[encoded data removed]",
      "text/plain": [
       "<Figure size 432x288 with 1 Axes>"
      ]
     },
     "metadata": {
      "needs_background": "light"
     },
     "output_type": "display_data"
    }
   ],
   "source": [
    "plotBestFit(weights.getA())"
   ]
  },
  {
   "cell_type": "code",
   "execution_count": null,
   "metadata": {},
   "outputs": [],
   "source": []
  }
 ],
 "metadata": {
  "kernelspec": {
   "display_name": "Python 3",
   "language": "python",
   "name": "python3"
  },
  "language_info": {
   "codemirror_mode": {
    "name": "ipython",
    "version": 3
   },
   "file_extension": ".py",
   "mimetype": "text/x-python",
   "name": "python",
   "nbconvert_exporter": "python",
   "pygments_lexer": "ipython3",
   "version": "3.7.6"
  }
 },
 "nbformat": 4,
 "nbformat_minor": 4
}
