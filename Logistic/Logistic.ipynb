{
 "cells": [
  {
   "cell_type": "code",
   "execution_count": 1,
   "metadata": {},
   "outputs": [],
   "source": [
    "from numpy import *\n",
    "import pandas as pd\n",
    "import random"
   ]
  },
  {
   "cell_type": "code",
   "execution_count": 2,
   "metadata": {},
   "outputs": [],
   "source": [
    "# # 单位阶跃函数\n",
    "def sigmoid(inX):\n",
    "    return 1.0/(1+exp(-inX))"
   ]
  },
  {
   "cell_type": "code",
   "execution_count": 3,
   "metadata": {},
   "outputs": [],
   "source": [
    "def loadData():\n",
    "    dataMat = []; labelMat = []\n",
    "    pima = open(\"../Pima.csv\")\n",
    "#     dataMat = np.array(pima.iloc[:,0:8].values.tolist())\n",
    "#     lables = np.array(pima.iloc[:,8:9].values.tolist())\n",
    "    for line in pima:\n",
    "        lineArr = line.strip().split(',')\n",
    "        float_map = map(float,lineArr)\n",
    "        float_list = list(float_map)\n",
    "        dataMat.append(float_list[0:-1])\n",
    "        labelMat.append(int(lineArr[-1]))\n",
    "    return dataMat,labelMat"
   ]
  },
  {
   "cell_type": "code",
   "execution_count": 4,
   "metadata": {},
   "outputs": [],
   "source": [
    "# 梯度上升\n",
    "def gradAscent(dataMatIn, classLabels):\n",
    "    dataMatrix = mat(dataMatIn)\n",
    "    labelMat = mat(classLabels).transpose()\n",
    "    m,n = shape(dataMatrix)\n",
    "    # 步长\n",
    "    alpha = 0.0000001\n",
    "    # 最大递归次数\n",
    "    maxCycles = 100000\n",
    "    # 初始化权重为1\n",
    "    weights = ones((n,1))\n",
    "    for k in range(maxCycles):          \n",
    "        h = sigmoid(dataMatrix*weights)\n",
    "        error = (labelMat - h)             \n",
    "        weights = weights + alpha * dataMatrix.transpose()* error\n",
    "    return weights"
   ]
  },
  {
   "cell_type": "code",
   "execution_count": 5,
   "metadata": {},
   "outputs": [],
   "source": [
    "def classfy(data,weight):\n",
    "    if(sigmoid(sum(data*weight)) > 0.5):\n",
    "        return 1\n",
    "    else:\n",
    "        return 0"
   ]
  },
  {
   "cell_type": "code",
   "execution_count": 8,
   "metadata": {},
   "outputs": [],
   "source": [
    "def test():\n",
    "    dataMat,labels = loadData()\n",
    "    length = len(dataMat)\n",
    "    \n",
    "    trainDataSet = []\n",
    "    trainLabelsSet = []\n",
    "    testDataSet = []\n",
    "    testLabelsSet = []\n",
    "    \n",
    "    randomlist = random.sample(range(0,length), int(length*0.2))\n",
    "    \n",
    "    for index in range(0,length):\n",
    "        if(index in randomlist):\n",
    "            testDataSet.append(dataMat[index])\n",
    "            testLabelsSet.append(labels[index])\n",
    "        else:\n",
    "            trainDataSet.append(dataMat[index])\n",
    "            trainLabelsSet.append(labels[index])\n",
    "    \n",
    "    weight = gradAscent(trainDataSet,trainLabelsSet)\n",
    "    \n",
    "    count = 0\n",
    "    for index in range(len(testDataSet)):\n",
    "        if(classfy(testDataSet[index],weight) == testLabelsSet[index]):\n",
    "            count += 1\n",
    "    return count/len(testDataSet)"
   ]
  },
  {
   "cell_type": "code",
   "execution_count": 9,
   "metadata": {},
   "outputs": [
    {
     "data": {
      "text/plain": [
       "0.6535947712418301"
      ]
     },
     "execution_count": 9,
     "metadata": {},
     "output_type": "execute_result"
    }
   ],
   "source": [
    "test()"
   ]
  },
  {
   "cell_type": "code",
   "execution_count": null,
   "metadata": {},
   "outputs": [],
   "source": []
  }
 ],
 "metadata": {
  "kernelspec": {
   "display_name": "Python 3",
   "language": "python",
   "name": "python3"
  },
  "language_info": {
   "codemirror_mode": {
    "name": "ipython",
    "version": 3
   },
   "file_extension": ".py",
   "mimetype": "text/x-python",
   "name": "python",
   "nbconvert_exporter": "python",
   "pygments_lexer": "ipython3",
   "version": "3.7.6"
  }
 },
 "nbformat": 4,
 "nbformat_minor": 4
}
