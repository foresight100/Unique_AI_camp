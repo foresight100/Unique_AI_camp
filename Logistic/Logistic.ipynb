{
 "cells": [
  {
   "cell_type": "code",
   "execution_count": 44,
   "metadata": {},
   "outputs": [],
   "source": [
    "from numpy import *\n",
    "import pandas as pd"
   ]
  },
  {
   "cell_type": "code",
   "execution_count": 45,
   "metadata": {},
   "outputs": [],
   "source": [
    "# 单位阶跃函数\n",
    "\n",
    "def sigmoid(inX):\n",
    "    #return 1.0/(1+exp(-inX))\n",
    "    if inX.all() >= 0:\n",
    "        return 1.0/(1+exp(-inX))\n",
    "    else:\n",
    "        return exp(inX)/(1+exp(inX))"
   ]
  },
  {
   "cell_type": "code",
   "execution_count": 46,
   "metadata": {},
   "outputs": [],
   "source": [
    "def loadData():\n",
    "    dataMat = []; labelMat = []\n",
    "    pima = open(\"../Pima.csv\")\n",
    "#     dataMat = np.array(pima.iloc[:,0:8].values.tolist())\n",
    "#     lables = np.array(pima.iloc[:,8:9].values.tolist())\n",
    "    for line in pima:\n",
    "        lineArr = line.strip().split(',')\n",
    "        float_map = map(float,lineArr)\n",
    "        dataMat.append(list(float_map))\n",
    "        labelMat.append(int(lineArr[-1]))\n",
    "    return dataMat,labelMat"
   ]
  },
  {
   "cell_type": "code",
   "execution_count": 47,
   "metadata": {},
   "outputs": [],
   "source": [
    "# 梯度上升\n",
    "def gradAscent(dataMatIn, classLabels):\n",
    "    dataMatrix = mat(dataMatIn)\n",
    "    labelMat = mat(classLabels).transpose()\n",
    "    m,n = shape(dataMatrix)\n",
    "    # 步长\n",
    "    alpha = 0.001\n",
    "    # 最大递归次数\n",
    "    maxCycles = 500\n",
    "    # 初始化权重为1\n",
    "    weights = ones((n,1))\n",
    "    for k in range(maxCycles):          \n",
    "        h = sigmoid(dataMatrix*weights)     \n",
    "        error = (labelMat - h)             \n",
    "        weights = weights + alpha * dataMatrix.transpose()* error\n",
    "    return weights"
   ]
  },
  {
   "cell_type": "code",
   "execution_count": 48,
   "metadata": {},
   "outputs": [
    {
     "data": {
      "text/plain": [
       "matrix([[  6.   , 148.   ,  72.   , ...,   0.627,  50.   ,   1.   ],\n",
       "        [  1.   ,  85.   ,  66.   , ...,   0.351,  31.   ,   0.   ],\n",
       "        [  8.   , 183.   ,  64.   , ...,   0.672,  32.   ,   1.   ],\n",
       "        ...,\n",
       "        [  5.   , 121.   ,  72.   , ...,   0.245,  30.   ,   0.   ],\n",
       "        [  1.   , 126.   ,  60.   , ...,   0.349,  47.   ,   1.   ],\n",
       "        [  1.   ,  93.   ,  70.   , ...,   0.315,  23.   ,   0.   ]])"
      ]
     },
     "execution_count": 48,
     "metadata": {},
     "output_type": "execute_result"
    }
   ],
   "source": [
    "dataMat,labels = loadData()\n",
    "mat(dataMat)"
   ]
  },
  {
   "cell_type": "code",
   "execution_count": 49,
   "metadata": {},
   "outputs": [
    {
     "name": "stderr",
     "output_type": "stream",
     "text": [
      "/Library/Frameworks/Python.framework/Versions/3.7/lib/python3.7/site-packages/ipykernel_launcher.py:6: RuntimeWarning: overflow encountered in exp\n",
      "  \n"
     ]
    },
    {
     "data": {
      "text/plain": [
       "matrix([[ 66.4103043 ],\n",
       "        [  8.28723079],\n",
       "        [-69.92469345],\n",
       "        [ -3.59464962],\n",
       "        [-18.31635766],\n",
       "        [  7.52319921],\n",
       "        [  3.75138067],\n",
       "        [  6.12166422],\n",
       "        [ 75.35451276]])"
      ]
     },
     "execution_count": 49,
     "metadata": {},
     "output_type": "execute_result"
    }
   ],
   "source": [
    "gradAscent(dataMat,labels)"
   ]
  },
  {
   "cell_type": "code",
   "execution_count": null,
   "metadata": {},
   "outputs": [],
   "source": []
  },
  {
   "cell_type": "code",
   "execution_count": null,
   "metadata": {},
   "outputs": [],
   "source": []
  }
 ],
 "metadata": {
  "kernelspec": {
   "display_name": "Python 3",
   "language": "python",
   "name": "python3"
  },
  "language_info": {
   "codemirror_mode": {
    "name": "ipython",
    "version": 3
   },
   "file_extension": ".py",
   "mimetype": "text/x-python",
   "name": "python",
   "nbconvert_exporter": "python",
   "pygments_lexer": "ipython3",
   "version": "3.7.6"
  }
 },
 "nbformat": 4,
 "nbformat_minor": 4
}
