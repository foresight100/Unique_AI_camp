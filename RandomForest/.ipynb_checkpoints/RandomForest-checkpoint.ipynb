{
 "cells": [
  {
   "cell_type": "code",
   "execution_count": 1,
   "metadata": {},
   "outputs": [],
   "source": [
    "import numpy as np\n",
    "import random\n",
    "# 一个是随机选取样本，一个是随机选取特征\n",
    "# 决策树的个数、特征属性的个数、递归次数（即决策树的深度）\n",
    "# https://github.com/sfeng-m/tree-model/blob/master/RandomForest/randomForest.py"
   ]
  },
  {
   "cell_type": "code",
   "execution_count": 2,
   "metadata": {},
   "outputs": [],
   "source": [
    "# 决策树部分\n",
    "\n",
    "# 计算GINI，gini表示不纯度，越小越纯，越大越不纯\n",
    "def calGini(dataSet):\n",
    "    # 创建字典，统计该数据集中的各个标签的数量\n",
    "    lables = calculateDiffCount(dataSet)\n",
    "    # 计算gini\n",
    "    length = len(dataSet)\n",
    "    gini = 1.0\n",
    "    for key in lables.keys():\n",
    "        gini -= (lables[key]/length)**2\n",
    "    return gini\n",
    "\n",
    "# 对数据集dataSet，对于第col列特征，根据value划分为两个数据集\n",
    "def splitData(dataSet,col,value):\n",
    "    data1 = []\n",
    "    data2 = []\n",
    "    for line in dataSet:\n",
    "        if(line[col] >= value):\n",
    "            data1.append(line)\n",
    "        else:\n",
    "            data2.append(line)\n",
    "    return data1,data2\n",
    "\n",
    "# 数标签\n",
    "def calculateDiffCount(datas):\n",
    "    results = {}\n",
    "    for data in datas:\n",
    "        if data[-1] not in results:\n",
    "            results[data[-1]] = 1\n",
    "        else:\n",
    "            results[data[-1]] += 1\n",
    "    return results\n",
    "\n",
    "\n",
    "# 递归调用，选取最佳的特征和最佳特征当中的最佳分割值\n",
    "def BuildCartDecisionTree(dataSet,features,maxDepth,depth):\n",
    "    \n",
    "    if(depth >= maxDepth):\n",
    "        return calculateDiffCount(dataSet)\n",
    "    \n",
    "    depth+=1\n",
    "    \n",
    "    # 目前的gini\n",
    "    currentgini = calGini(dataSet)\n",
    "    # 列数\n",
    "    column_length = len(dataSet[0])\n",
    "    # 行数（样本数）\n",
    "    rows_length = len(dataSet)\n",
    "    \n",
    "    # giniIndex的差\n",
    "    best_gini_gain = 0.0\n",
    "    \n",
    "    best_value = None\n",
    "    best_set = None\n",
    "    \n",
    "    for col in features:\n",
    "        values = set([x[col] for x in dataSet])\n",
    "        for value in values:\n",
    "            data1,data2 = splitData(dataSet,col,value)\n",
    "            p = len(data1)/rows_length\n",
    "            gini = p*calGini(data1)+(1-p)*calGini(data2)\n",
    "            gain = currentgini-gini\n",
    "            if(gain > best_gini_gain):\n",
    "                best_gini_gain = gain\n",
    "                best_value = (col,value)\n",
    "                best_set = (data1,data2)\n",
    "                \n",
    "\n",
    "    if(best_gini_gain > 0.0):\n",
    "        trueBranch = BuildCartDecisionTree(best_set[0], features,maxDepth,depth)\n",
    "        falseBranch = BuildCartDecisionTree(best_set[1], features,maxDepth,depth)\n",
    "        return (best_value[0],\n",
    "                best_value[1],\n",
    "                falseBranch,\n",
    "                trueBranch)\n",
    "    else:\n",
    "        return calculateDiffCount(dataSet)\n"
   ]
  },
  {
   "cell_type": "code",
   "execution_count": 3,
   "metadata": {},
   "outputs": [],
   "source": [
    "def getFeatures(dataSet,n_features):\n",
    "    return random.sample(range(len(dataSet[0])-1),n_features)"
   ]
  },
  {
   "cell_type": "code",
   "execution_count": 4,
   "metadata": {},
   "outputs": [],
   "source": [
    "def loadData():\n",
    "#     dataMat = []; labelMat = []\n",
    "    alldataMat = []\n",
    "    pima = open(\"../Pima.csv\")\n",
    "    for line in pima:\n",
    "        lineArr = line.strip().split(',')\n",
    "        float_map = map(float,lineArr)\n",
    "        float_list = list(float_map)\n",
    "#         dataMat.append(float_list[0:-1])\n",
    "#         labelMat.append(int(lineArr[-1]))\n",
    "        float_list[-1] = int(lineArr[-1])\n",
    "        alldataMat.append(float_list)\n",
    "    return alldataMat"
   ]
  },
  {
   "cell_type": "code",
   "execution_count": 5,
   "metadata": {},
   "outputs": [],
   "source": [
    "# 切分数据集，以便交叉验证\n",
    "# input(数据集，个数)\n",
    "# def spiltDataSet(dataSet,labelMat,bag_nums):\n",
    "#     spiltedDataSet = []\n",
    "#     spiltedLabelsSet = []\n",
    "#     oneBagLength = int(len(dataSet)/bag_nums)\n",
    "#     for i in range(bag_nums):\n",
    "#         data = []\n",
    "#         label = []\n",
    "#         for index in range(i*oneBagLength,(i+1)*oneBagLength):\n",
    "#             data.append(dataSet[index])\n",
    "#             label.append(labelMat[index])\n",
    "#         spiltedDataSet.append(data)\n",
    "#         spiltedLabelsSet.append(label)\n",
    "#     return spiltedDataSet,spiltedLabelsSet\n",
    "\n",
    "def spiltDataSet(dataSet,bag_nums):\n",
    "    spiltedDataSet = []\n",
    "    oneBagLength = int(len(dataSet)/bag_nums)\n",
    "    data = []\n",
    "    for index in random.sample(range(len(dataSet)),len(dataSet)):\n",
    "        if(len(data) < oneBagLength):\n",
    "            data.append(dataSet[index])\n",
    "        else:\n",
    "            spiltedDataSet.append(data)\n",
    "            data = []\n",
    "    return spiltedDataSet"
   ]
  },
  {
   "cell_type": "code",
   "execution_count": 11,
   "metadata": {},
   "outputs": [],
   "source": [
    "# 树的个数，随机选取的特征数，树的最大深度，随机分成的数据集的个数\n",
    "def buildRandomForest(n_trees,n_features,max_tree_depth,n_dataSets):\n",
    "    RForest = []\n",
    "    # 载入数据\n",
    "    dataMat = loadData()\n",
    "    # 随机分数据集\n",
    "    spiltedDataSet = spiltDataSet(dataMat,n_dataSets)\n",
    "    # 构建n_trees棵树的森林\n",
    "    for i in range(n_trees):\n",
    "        features = getFeatures(dataMat,n_features)\n",
    "        tree = BuildCartDecisionTree(spiltedDataSet[random.randint(0,len(spiltedDataSet)-1)],features,max_tree_depth,1)\n",
    "        RForest.append(tree)\n",
    "    return RForest"
   ]
  },
  {
   "cell_type": "code",
   "execution_count": 12,
   "metadata": {},
   "outputs": [],
   "source": [
    "# 基于决策树分类数据data\n",
    "def classifyByTree(tree,data):\n",
    "    lengthOfNode = len(tree)\n",
    "    if(lengthOfNode == 4):\n",
    "        feature = tree[0]\n",
    "        value = tree[1]\n",
    "        data_value = data[feature]\n",
    "        if(data_value >= value):\n",
    "            return classifyByTree(tree[3],data)\n",
    "        else:\n",
    "            return classifyByTree(tree[2],data)\n",
    "    else:\n",
    "        return max(tree,key=tree.get)"
   ]
  },
  {
   "cell_type": "code",
   "execution_count": 13,
   "metadata": {},
   "outputs": [],
   "source": [
    "def classifyByForest(forest,data):\n",
    "    results = {}\n",
    "    for tree in forest:\n",
    "        result = classifyByTree(tree,data)\n",
    "        if result not in results:\n",
    "            results[result] = 1\n",
    "        else:\n",
    "            results[result] += 1\n",
    "    return max(results,key=results.get)"
   ]
  },
  {
   "cell_type": "code",
   "execution_count": 49,
   "metadata": {},
   "outputs": [],
   "source": [
    "def acc():\n",
    "    forest = buildRandomForest(200,3,10,5)\n",
    "    dataMat = loadData()\n",
    "    count = 0\n",
    "    for index in random.sample(range(len(dataMat)),len(dataMat)-1):\n",
    "        result = classifyByForest(forest,dataMat[index])\n",
    "        if(result == dataMat[index][-1]):\n",
    "            count += 1\n",
    "    return float(count/len(dataMat))"
   ]
  },
  {
   "cell_type": "code",
   "execution_count": 50,
   "metadata": {},
   "outputs": [
    {
     "data": {
      "text/plain": [
       "0.8619791666666666"
      ]
     },
     "execution_count": 50,
     "metadata": {},
     "output_type": "execute_result"
    }
   ],
   "source": [
    "acc()"
   ]
  },
  {
   "cell_type": "code",
   "execution_count": null,
   "metadata": {},
   "outputs": [],
   "source": []
  },
  {
   "cell_type": "code",
   "execution_count": null,
   "metadata": {},
   "outputs": [],
   "source": []
  }
 ],
 "metadata": {
  "kernelspec": {
   "display_name": "Python 3",
   "language": "python",
   "name": "python3"
  },
  "language_info": {
   "codemirror_mode": {
    "name": "ipython",
    "version": 3
   },
   "file_extension": ".py",
   "mimetype": "text/x-python",
   "name": "python",
   "nbconvert_exporter": "python",
   "pygments_lexer": "ipython3",
   "version": "3.7.6"
  }
 },
 "nbformat": 4,
 "nbformat_minor": 4
}
