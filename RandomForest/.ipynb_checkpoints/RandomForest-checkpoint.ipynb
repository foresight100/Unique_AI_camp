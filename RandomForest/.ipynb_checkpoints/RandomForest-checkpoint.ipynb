{
 "cells": [
  {
   "cell_type": "code",
   "execution_count": 21,
   "metadata": {},
   "outputs": [],
   "source": [
    "import numpy as np\n",
    "# 一个是随机选取样本，一个是随机选取特征\n",
    "# 决策树的个数、特征属性的个数、递归次数（即决策树的深度）\n",
    "# https://github.com/sfeng-m/tree-model/blob/master/RandomForest/randomForest.py"
   ]
  },
  {
   "cell_type": "code",
   "execution_count": null,
   "metadata": {},
   "outputs": [],
   "source": [
    "# 决策树部分\n",
    "\n",
    "# 计算GINI，gini表示不纯度，越小越纯，越大越不纯\n",
    "def calGini(dataSet):\n",
    "    # 创建字典，统计该数据集中的各个标签的数量\n",
    "    lables = calculateDiffCount(dataSet)\n",
    "    # 计算gini\n",
    "    length = len(dataSet)\n",
    "    gini = 1.0\n",
    "    for key in lables.keys():\n",
    "        gini -= (lables[key]/length)**2\n",
    "    return gini\n",
    "\n",
    "# 对数据集dataSet，对于第col列特征，根据value划分为两个数据集\n",
    "def splitData(dataSet,col,value):\n",
    "    data1 = []\n",
    "    data2 = []\n",
    "    for line in dataSet:\n",
    "        if(line[col] >= value):\n",
    "            data1.append(line)\n",
    "        else:\n",
    "            data2.append(line)\n",
    "    return data1,data2\n",
    "\n",
    "# 数标签\n",
    "def calculateDiffCount(datas):\n",
    "    results = {}\n",
    "    for data in datas:\n",
    "        #data[-1] means dataType\n",
    "        if data[-1] not in results:\n",
    "            results[data[-1]] = 1\n",
    "        else:\n",
    "            results[data[-1]] += 1\n",
    "    return results\n",
    "\n",
    "\n",
    "# 构建决策树（数据集，特征数，深度\n",
    "def buildDecisionTree(dataSet,labelsMat,n_features,max_depth,min_size):\n",
    "    return {\"\"}"
   ]
  },
  {
   "cell_type": "code",
   "execution_count": 4,
   "metadata": {},
   "outputs": [],
   "source": [
    "def loadData():\n",
    "    dataMat = []; labelMat = []\n",
    "    pima = open(\"../Pima.csv\")\n",
    "    for line in pima:\n",
    "        lineArr = line.strip().split(',')\n",
    "        float_map = map(float,lineArr)\n",
    "        float_list = list(float_map)\n",
    "        dataMat.append(float_list[0:-1])\n",
    "        labelMat.append(int(lineArr[-1]))\n",
    "    return dataMat,labelMat"
   ]
  },
  {
   "cell_type": "code",
   "execution_count": 12,
   "metadata": {},
   "outputs": [],
   "source": [
    "# 切分数据集，以便交叉验证\n",
    "# input(数据集，个数)\n",
    "def spiltDataSet(dataSet,labelMat,bag_nums):\n",
    "    spiltedDataSet = []\n",
    "    spiltedLabelsSet = []\n",
    "    oneBagLength = int(len(dataSet)/bag_nums)\n",
    "    for i in range(bag_nums):\n",
    "        data = []\n",
    "        label = []\n",
    "        for index in range(i*oneBagLength,(i+1)*oneBagLength):\n",
    "            data.append(dataSet[index])\n",
    "            label.append(labelMat[index])\n",
    "        spiltedDataSet.append(data)\n",
    "        spiltedLabelsSet.append(label)\n",
    "    return spiltedDataSet,spiltedLabelsSet"
   ]
  },
  {
   "cell_type": "code",
   "execution_count": null,
   "metadata": {},
   "outputs": [],
   "source": []
  },
  {
   "cell_type": "code",
   "execution_count": 16,
   "metadata": {},
   "outputs": [],
   "source": [
    "dataMat,labelMat = loadData()\n",
    "spiltedDataSet,spiltedLabelsSet = spiltDataSet(dataMat,labelMat,150)"
   ]
  },
  {
   "cell_type": "code",
   "execution_count": null,
   "metadata": {},
   "outputs": [],
   "source": [
    "# 统计标签\n",
    "def calculateDiffCount(datas):\n",
    "    results = {}\n",
    "    for data in datas:\n",
    "        #data[-1] means dataType\n",
    "        if data[-1] not in results:\n",
    "            results[data[-1]] = 1\n",
    "        else:\n",
    "            results[data[-1]] += 1\n",
    "    return results"
   ]
  },
  {
   "cell_type": "code",
   "execution_count": null,
   "metadata": {},
   "outputs": [],
   "source": [
    "# 计算GINI，gini表示不纯度，越小越纯，越大越不纯\n",
    "def calGini(dataSet):\n",
    "    # 创建字典，统计该数据集中的各个标签的数量\n",
    "    lables = calculateDiffCount(dataSet)\n",
    "    # 计算gini\n",
    "    length = len(dataSet)\n",
    "    gini = 1.0\n",
    "    for key in lables.keys():\n",
    "        gini -= (lables[key]/length)**2\n",
    "    return gini"
   ]
  }
 ],
 "metadata": {
  "kernelspec": {
   "display_name": "Python 3",
   "language": "python",
   "name": "python3"
  },
  "language_info": {
   "codemirror_mode": {
    "name": "ipython",
    "version": 3
   },
   "file_extension": ".py",
   "mimetype": "text/x-python",
   "name": "python",
   "nbconvert_exporter": "python",
   "pygments_lexer": "ipython3",
   "version": "3.7.6"
  }
 },
 "nbformat": 4,
 "nbformat_minor": 4
}
