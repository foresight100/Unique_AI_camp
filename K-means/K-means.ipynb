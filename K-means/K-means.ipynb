{
 "cells": [
  {
   "cell_type": "code",
   "execution_count": 1,
   "metadata": {},
   "outputs": [],
   "source": [
    "import matplotlib.pyplot as plt\n",
    "import numpy as np\n",
    "import pandas as pd\n",
    "import random\n",
    "import collections\n",
    "# 随机选择K个中心点\n",
    "# 把每个数据点分配到离它最近的中心点\n",
    "# 重新计算每类中的点到该类中心点距离的平均值\n",
    "# 分配每个数据到它最近的中心点；\n",
    "# 重复步骤3和4，直到所有的观测值不再被分配或是达到最大的迭代次数"
   ]
  },
  {
   "cell_type": "code",
   "execution_count": 2,
   "metadata": {},
   "outputs": [],
   "source": [
    "# 载入数据\n",
    "def loadData():\n",
    "    iris = pd.read_csv(\"../iris.csv\",header=None)\n",
    "    k = len(iris[4].value_counts())\n",
    "    lables = iris.iloc[:,4:].values.tolist()\n",
    "    dataMat = np.array(iris.iloc[:,0:4].values.tolist())\n",
    "    return k,dataMat,lables"
   ]
  },
  {
   "cell_type": "code",
   "execution_count": 3,
   "metadata": {},
   "outputs": [],
   "source": [
    "# # 欧式距离\n",
    "def distance(mat1,mat2):\n",
    "    return np.sqrt(sum((mat1-mat2)**2))\n",
    "# def distance(mat1,mat2):\n",
    "#     diffMat = mat1 - mat2\n",
    "#     sqDiffMat = diffMat**2\n",
    "#     sqDistance = sqDiffMat.sum(axis = 1)\n",
    "#     distance = sqDistance**0.5\n",
    "#     return distance"
   ]
  },
  {
   "cell_type": "code",
   "execution_count": 4,
   "metadata": {},
   "outputs": [],
   "source": [
    "def randomPoint(k):\n",
    "    randomPointList = random.sample(range(0,150), k)\n",
    "    return randomPointList"
   ]
  },
  {
   "cell_type": "code",
   "execution_count": 16,
   "metadata": {},
   "outputs": [],
   "source": [
    "# 簇个数，数据集，最大迭代次数\n",
    "def kMeans(maxTimes):\n",
    "    # 载入数据\n",
    "    k,dataMat,lables = loadData()\n",
    "    # 数据集长度\n",
    "    length = dataMat.shape[0]\n",
    "    # 随机产生的最开始的点\n",
    "    cPoints = randomPoint(k)\n",
    "    # 第一次分配\n",
    "    classes = []\n",
    "    for i in range(0,k):\n",
    "        classes.append([])\n",
    "        \n",
    "    for i in range(0,length):\n",
    "        if( i in cPoints):\n",
    "            continue \n",
    "        distanceList = []\n",
    "        for x in cPoints:\n",
    "            distanceList.append(distance(dataMat[i],dataMat[x]))\n",
    "            max_index = distanceList.index(min(distanceList))\n",
    "        classes[max_index].append(i)\n",
    "    \n",
    "    # 迭代次数\n",
    "    count = 0\n",
    "    point = np.zeros( (k,4) )\n",
    "    \n",
    "    while(count < maxTimes):\n",
    "        pointTemp = np.zeros( (k,4) )\n",
    "        for i in range(0,3):\n",
    "            for index in classes[i]:\n",
    "                pointTemp[i] += dataMat[index]\n",
    "            length = float(len(classes[i]))\n",
    "            pointTemp[i]/=length\n",
    "            \n",
    "            \n",
    "            \n",
    "            \n",
    "            \n",
    "        # 如果收敛\n",
    "        if(pointTemp.all() == point.all()):\n",
    "            break\n",
    "        else:\n",
    "            point = pointTemp\n",
    "            count+=1\n",
    "            \n",
    "            \n",
    "            \n",
    "    # 票选出最终结果\n",
    "    result = []\n",
    "    for i in range(0,3):\n",
    "        frequency = {}\n",
    "        for index in classes[i]:\n",
    "            if lables[index][0] not in frequency:\n",
    "                frequency[lables[index][0]] = 1\n",
    "            else:\n",
    "                frequency[lables[index][0]] += 1\n",
    "        result.append(max(frequency,key=frequency.get))\n",
    "        \n",
    "    return result,point,count"
   ]
  },
  {
   "cell_type": "code",
   "execution_count": 17,
   "metadata": {},
   "outputs": [
    {
     "name": "stdout",
     "output_type": "stream",
     "text": [
      "[[6.07631579 2.81315789 4.66052632 1.56710526]\n",
      " [4.99038462 3.34807692 1.56923077 0.29038462]\n",
      " [7.16842105 3.16842105 6.06842105 2.15263158]]\n",
      "[[6.07631579 2.81315789 4.66052632 1.56710526]\n",
      " [4.99038462 3.34807692 1.56923077 0.29038462]\n",
      " [7.16842105 3.16842105 6.06842105 2.15263158]]\n"
     ]
    },
    {
     "data": {
      "text/plain": [
       "(['Iris-versicolor', 'Iris-setosa', 'Iris-virginica'],\n",
       " array([[6.07631579, 2.81315789, 4.66052632, 1.56710526],\n",
       "        [4.99038462, 3.34807692, 1.56923077, 0.29038462],\n",
       "        [7.16842105, 3.16842105, 6.06842105, 2.15263158]]),\n",
       " 1)"
      ]
     },
     "execution_count": 17,
     "metadata": {},
     "output_type": "execute_result"
    }
   ],
   "source": [
    "k,dataMat,lables = loadData()\n",
    "kMeans(119)"
   ]
  },
  {
   "cell_type": "code",
   "execution_count": 7,
   "metadata": {},
   "outputs": [
    {
     "data": {
      "text/plain": [
       "array([[0., 0., 0., 0.],\n",
       "       [0., 0., 0., 0.],\n",
       "       [0., 0., 0., 0.]])"
      ]
     },
     "execution_count": 7,
     "metadata": {},
     "output_type": "execute_result"
    }
   ],
   "source": [
    "np.zeros( (k,4) )"
   ]
  },
  {
   "cell_type": "code",
   "execution_count": 8,
   "metadata": {},
   "outputs": [],
   "source": [
    "point1 = np.zeros( (k,4) )\n",
    "point2 = np.zeros( (k,4) )"
   ]
  },
  {
   "cell_type": "code",
   "execution_count": 9,
   "metadata": {},
   "outputs": [
    {
     "name": "stdout",
     "output_type": "stream",
     "text": [
      "[[ True  True  True  True]\n",
      " [ True  True  True  True]\n",
      " [ True  True  True  True]]\n"
     ]
    }
   ],
   "source": [
    "print(point1 == point2)"
   ]
  },
  {
   "cell_type": "code",
   "execution_count": 10,
   "metadata": {},
   "outputs": [
    {
     "name": "stdout",
     "output_type": "stream",
     "text": [
      "222\n"
     ]
    }
   ],
   "source": [
    "if(point1.any() == point2.any()):\n",
    "    print(\"222\")"
   ]
  },
  {
   "cell_type": "code",
   "execution_count": null,
   "metadata": {},
   "outputs": [],
   "source": []
  }
 ],
 "metadata": {
  "kernelspec": {
   "display_name": "Python 3",
   "language": "python",
   "name": "python3"
  },
  "language_info": {
   "codemirror_mode": {
    "name": "ipython",
    "version": 3
   },
   "file_extension": ".py",
   "mimetype": "text/x-python",
   "name": "python",
   "nbconvert_exporter": "python",
   "pygments_lexer": "ipython3",
   "version": "3.7.6"
  }
 },
 "nbformat": 4,
 "nbformat_minor": 4
}
