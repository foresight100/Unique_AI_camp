{
 "cells": [
  {
   "cell_type": "code",
   "execution_count": 1,
   "metadata": {},
   "outputs": [],
   "source": [
    "import matplotlib.pyplot as plt\n",
    "import numpy as np\n",
    "import pandas as pd\n",
    "import random\n",
    "import collections\n",
    "# 随机选择K个中心点\n",
    "# 把每个数据点分配到离它最近的中心点\n",
    "# 重新计算每类中的点到该类中心点距离的平均值\n",
    "# 分配每个数据到它最近的中心点；\n",
    "# 重复步骤3和4，直到所有的观测值不再被分配或是达到最大的迭代次数"
   ]
  },
  {
   "cell_type": "code",
   "execution_count": 2,
   "metadata": {},
   "outputs": [],
   "source": [
    "# 载入数据\n",
    "def loadData():\n",
    "    iris = pd.read_csv(\"../iris.csv\",header=None)\n",
    "    k = len(iris[4].value_counts())\n",
    "    lables = iris.iloc[:,4:].values.tolist()\n",
    "    dataMat = np.array(iris.iloc[:,0:4].values.tolist())\n",
    "    return k,dataMat,lables"
   ]
  },
  {
   "cell_type": "code",
   "execution_count": 3,
   "metadata": {},
   "outputs": [],
   "source": [
    "# # 欧式距离\n",
    "def distance(mat1,mat2):\n",
    "    return np.sqrt(sum((mat1-mat2)**2))\n",
    "# def distance(mat1,mat2):\n",
    "#     diffMat = mat1 - mat2\n",
    "#     sqDiffMat = diffMat**2\n",
    "#     sqDistance = sqDiffMat.sum(axis = 1)\n",
    "#     distance = sqDistance**0.5\n",
    "#     return distance"
   ]
  },
  {
   "cell_type": "code",
   "execution_count": 4,
   "metadata": {},
   "outputs": [],
   "source": [
    "def randomPoint(k,dataMat):\n",
    "    randomPointList = random.sample(range(0,150), k)\n",
    "    point = np.zeros( (k,4) )\n",
    "    index = 0\n",
    "    for i in randomPointList:\n",
    "        point[index] = dataMat[i]\n",
    "        index+=1\n",
    "    return point,randomPointList"
   ]
  },
  {
   "cell_type": "code",
   "execution_count": 5,
   "metadata": {},
   "outputs": [],
   "source": [
    "# 簇个数，数据集，最大迭代次数\n",
    "def kMeans(maxTimes):\n",
    "    # 载入数据\n",
    "    k,dataMat,lables = loadData()\n",
    "    # 数据集长度\n",
    "    length = dataMat.shape[0]\n",
    "    # 随机产生的最开始的点\n",
    "    point,cPoints = randomPoint(k,dataMat)\n",
    "    # 第一次分配\n",
    "    classes = []\n",
    "    for i in range(0,k):\n",
    "        classes.append([])\n",
    "    for i in range(0,length):\n",
    "        if( i in cPoints):\n",
    "            continue \n",
    "        distanceList = []\n",
    "        for x in cPoints:\n",
    "            distanceList.append(distance(dataMat[i],dataMat[x]))\n",
    "            max_index = distanceList.index(min(distanceList))\n",
    "        classes[max_index].append(i)\n",
    "    \n",
    "    \n",
    "    # 迭代次数\n",
    "    count = 0\n",
    "    while(count < maxTimes):\n",
    "        pointTemp = np.zeros( (k,4) )\n",
    "        for i in range(0,3):\n",
    "            for index in classes[i]:\n",
    "                pointTemp[i] += dataMat[index]\n",
    "            classlength = float(len(classes[i]))\n",
    "            pointTemp[i]/=classlength\n",
    "            \n",
    "        classes = []\n",
    "        for i in range(0,k):\n",
    "            classes.append([])\n",
    "            \n",
    "        for i in range(0,length):\n",
    "            distanceList = []\n",
    "            for x in pointTemp:\n",
    "                distanceList.append(distance(dataMat[i],x))\n",
    "                max_index = distanceList.index(min(distanceList))\n",
    "            classes[max_index].append(i)\n",
    "\n",
    "            \n",
    "        # 如果收敛\n",
    "        if((pointTemp == point).all()):\n",
    "            break\n",
    "        else:\n",
    "            point = pointTemp\n",
    "            count+=1\n",
    "            \n",
    "            \n",
    "            \n",
    "    # 票选出最终结果\n",
    "    result = []\n",
    "    for i in range(0,3):\n",
    "        frequency = {}\n",
    "        for index in classes[i]:\n",
    "            if lables[index][0] not in frequency:\n",
    "                frequency[lables[index][0]] = 1\n",
    "            else:\n",
    "                frequency[lables[index][0]] += 1\n",
    "        result.append(max(frequency,key=frequency.get))\n",
    "    \n",
    "    return result,count,classes,lables"
   ]
  },
  {
   "cell_type": "code",
   "execution_count": 16,
   "metadata": {},
   "outputs": [],
   "source": [
    "def test(result,classes,k,lables):\n",
    "    error = 0 \n",
    "    for i in range(0,k):\n",
    "        for index in classes[i]:\n",
    "            if(lables[index][0] != result[i]):\n",
    "                error+=1\n",
    "    print(1-error/150.0)\n",
    "    return"
   ]
  },
  {
   "cell_type": "code",
   "execution_count": 17,
   "metadata": {},
   "outputs": [],
   "source": [
    "result,count,classes,lables = kMeans(20)"
   ]
  },
  {
   "cell_type": "code",
   "execution_count": 18,
   "metadata": {},
   "outputs": [
    {
     "name": "stdout",
     "output_type": "stream",
     "text": [
      "0.8933333333333333\n"
     ]
    }
   ],
   "source": [
    "test(result,classes,3,lables)"
   ]
  },
  {
   "cell_type": "code",
   "execution_count": null,
   "metadata": {},
   "outputs": [],
   "source": []
  }
 ],
 "metadata": {
  "kernelspec": {
   "display_name": "Python 3",
   "language": "python",
   "name": "python3"
  },
  "language_info": {
   "codemirror_mode": {
    "name": "ipython",
    "version": 3
   },
   "file_extension": ".py",
   "mimetype": "text/x-python",
   "name": "python",
   "nbconvert_exporter": "python",
   "pygments_lexer": "ipython3",
   "version": "3.7.6"
  }
 },
 "nbformat": 4,
 "nbformat_minor": 4
}
