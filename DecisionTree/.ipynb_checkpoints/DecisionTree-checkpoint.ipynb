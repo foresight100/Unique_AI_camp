{
 "cells": [
  {
   "cell_type": "code",
   "execution_count": 1,
   "metadata": {},
   "outputs": [],
   "source": [
    "import numpy as np\n",
    "import pandas as pd\n",
    "from math import log\n"
   ]
  },
  {
   "cell_type": "code",
   "execution_count": 2,
   "metadata": {},
   "outputs": [],
   "source": [
    "class Tree:\n",
    "    def __init__(self, value=None, trueBranch=None, falseBranch=None, results=None, col=-1, summary=None, data=None):\n",
    "        self.value = value\n",
    "        self.trueBranch = trueBranch\n",
    "        self.falseBranch = falseBranch\n",
    "        self.results = results\n",
    "        self.col = col\n",
    "        self.summary = summary\n",
    "        self.data = data"
   ]
  },
  {
   "cell_type": "code",
   "execution_count": 3,
   "metadata": {},
   "outputs": [],
   "source": [
    "# 载入数据\n",
    "def loadData():\n",
    "    pima = pd.read_csv(\"../Pima.csv\",header=None)\n",
    "    dataMat = np.array(pima.iloc[:,0:10].values.tolist())\n",
    "    return dataMat"
   ]
  },
  {
   "cell_type": "code",
   "execution_count": 4,
   "metadata": {},
   "outputs": [],
   "source": [
    "# 计算熵\n",
    "def calShannon(dataSet):\n",
    "    # 创建字典，统计该数据集中的各个标签的数量\n",
    "    lables = {}\n",
    "    for line in dataSet:\n",
    "        Lable = line[-1]\n",
    "        if Lable not in lables.keys():\n",
    "            lables[Lable] = 0\n",
    "        lables[Lable] += 1\n",
    "    length = len(dataSet)\n",
    "    shannon = 0.0\n",
    "    for key in lables:\n",
    "        p = float(lables[key]/length)\n",
    "        shannon -= p*log(p,2)\n",
    "    return shannon"
   ]
  },
  {
   "cell_type": "code",
   "execution_count": 5,
   "metadata": {},
   "outputs": [],
   "source": [
    "# 计算GINI，gini表示不纯度，越小越纯，越大越不纯\n",
    "def calGini(dataSet):\n",
    "    # 创建字典，统计该数据集中的各个标签的数量\n",
    "    lables = {}\n",
    "    for line in dataSet:\n",
    "        Lable = line[-1]\n",
    "        if Lable not in lables.keys():\n",
    "            lables[Lable] = 0\n",
    "        lables[Lable] += 1\n",
    "    # 计算gini\n",
    "    length = len(dataSet)\n",
    "    gini = 1.0\n",
    "    for key in lables.keys():\n",
    "        gini -= (lables[key]/length)**2\n",
    "    return gini"
   ]
  },
  {
   "cell_type": "code",
   "execution_count": 6,
   "metadata": {},
   "outputs": [],
   "source": [
    "# 对数据集dataSet，对于第col列特征，根据value划分为两个数据集\n",
    "def splitData(dataSet,col,value):\n",
    "    data1 = []\n",
    "    data2 = []\n",
    "    for line in dataSet:\n",
    "        if(line[col] >= value):\n",
    "            data1.append(line)\n",
    "        else:\n",
    "            data2.append(line)\n",
    "    return data1,data2"
   ]
  },
  {
   "cell_type": "code",
   "execution_count": 7,
   "metadata": {},
   "outputs": [],
   "source": [
    "def calculateDiffCount(datas):\n",
    "    #将输入的数据汇总(input dataSet)\n",
    "    #return results Set{type1:type1Count,type2:type2Count ... typeN:typeNCount}\n",
    "    \n",
    "    results = {}\n",
    "    for data in datas:\n",
    "        #data[-1] means dataType\n",
    "        if data[-1] not in results:\n",
    "            results[data[-1]] = 1\n",
    "        else:\n",
    "            results[data[-1]] += 1\n",
    "    return results"
   ]
  },
  {
   "cell_type": "code",
   "execution_count": 8,
   "metadata": {},
   "outputs": [],
   "source": [
    "# 递归调用，选取最佳的特征和最佳特征当中的最佳分割值\n",
    "def BuildCartDecisionTree(dataSet):\n",
    "    \n",
    "    # 目前的gini\n",
    "    currentgini = calGini(dataSet)\n",
    "    # 列数\n",
    "    column_length = len(dataSet[0])\n",
    "    # 行数（样本数）\n",
    "    rows_length = len(dataSet)\n",
    "    \n",
    "    # giniIndex的差\n",
    "    best_gini_gain = 0.0\n",
    "    \n",
    "    best_value = None\n",
    "    best_set = None\n",
    "    \n",
    "    for col in range(column_length-1):\n",
    "        values = set([x[col] for x in dataSet])\n",
    "        for value in values:\n",
    "            data1,data2 = splitData(dataSet,col,value)\n",
    "            p = len(data1)/rows_length\n",
    "            gini = p*calGini(data1)+(1-p)*calGini(data2)\n",
    "            gain = currentgini-gini\n",
    "            if(gain > best_gini_gain):\n",
    "                best_gini_gain = gain\n",
    "                best_value = (col,value)\n",
    "                best_set = (data1,data2)\n",
    "                \n",
    "    dcY = {'impurity' : '%.3f' % currentgini,\n",
    "           'samples' : '%d' % rows_length}\n",
    "                \n",
    "    if(best_gini_gain > 0.0):\n",
    "        trueBranch = BuildCartDecisionTree(best_set[0])\n",
    "        falseBranch = BuildCartDecisionTree(best_set[1])\n",
    "        return Tree(col=best_value[0],\n",
    "                    value=best_value[1],\n",
    "                    trueBranch=trueBranch,\n",
    "                    falseBranch=falseBranch,\n",
    "                    summary=dcY)\n",
    "    else:\n",
    "        return Tree(results=calculateDiffCount(dataSet),\n",
    "                    summary=dcY,\n",
    "                    data=dataSet)"
   ]
  },
  {
   "cell_type": "code",
   "execution_count": 14,
   "metadata": {},
   "outputs": [],
   "source": [
    "# 基于树对数据分类\n",
    "def classify(data,tree):\n",
    "    # 若为树枝末端\n",
    "    if tree.results != None:\n",
    "        return tree.results\n",
    "    else:\n",
    "        branch = None\n",
    "        v = data[tree.col]\n",
    "        if v >= tree.value:\n",
    "            branch = tree.trueBranch\n",
    "        else:\n",
    "            branch = tree.falseBranch\n",
    "        \n",
    "        return classify(data, branch)"
   ]
  },
  {
   "cell_type": "code",
   "execution_count": 12,
   "metadata": {},
   "outputs": [],
   "source": [
    "dataMat = loadData()\n",
    "tree = BuildCartDecisionTree(dataMat)"
   ]
  },
  {
   "cell_type": "code",
   "execution_count": 15,
   "metadata": {},
   "outputs": [
    {
     "data": {
      "text/plain": [
       "{0.0: 30}"
      ]
     },
     "execution_count": 15,
     "metadata": {},
     "output_type": "execute_result"
    }
   ],
   "source": [
    "classify(dataMat[1],tree)\n"
   ]
  },
  {
   "cell_type": "code",
   "execution_count": 16,
   "metadata": {},
   "outputs": [
    {
     "data": {
      "text/plain": [
       "array([ 1.   , 85.   , 66.   , 29.   ,  0.   , 26.6  ,  0.351, 31.   ,\n",
       "        0.   ])"
      ]
     },
     "execution_count": 16,
     "metadata": {},
     "output_type": "execute_result"
    }
   ],
   "source": [
    "dataMat[1]"
   ]
  },
  {
   "cell_type": "code",
   "execution_count": null,
   "metadata": {},
   "outputs": [],
   "source": []
  }
 ],
 "metadata": {
  "kernelspec": {
   "display_name": "Python 3",
   "language": "python",
   "name": "python3"
  },
  "language_info": {
   "codemirror_mode": {
    "name": "ipython",
    "version": 3
   },
   "file_extension": ".py",
   "mimetype": "text/x-python",
   "name": "python",
   "nbconvert_exporter": "python",
   "pygments_lexer": "ipython3",
   "version": "3.7.6"
  }
 },
 "nbformat": 4,
 "nbformat_minor": 4
}
